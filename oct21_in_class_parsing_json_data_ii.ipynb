{
  "nbformat": 4,
  "nbformat_minor": 0,
  "metadata": {
    "colab": {
      "provenance": [],
      "name": "oct21-in-class-parsing-json-data-ii.ipynb",
      "include_colab_link": true
    },
    "kernelspec": {
      "name": "python3",
      "display_name": "Python 3"
    },
    "language_info": {
      "name": "python"
    }
  },
  "cells": [
    {
      "cell_type": "markdown",
      "metadata": {
        "id": "view-in-github",
        "colab_type": "text"
      },
      "source": [
        "<a href=\"https://colab.research.google.com/github/Data-Analytics-with-Python/exercise-visualization-with-osm-shirleyhan1996-hash/blob/main/oct21_in_class_parsing_json_data_ii.ipynb\" target=\"_parent\"><img src=\"https://colab.research.google.com/assets/colab-badge.svg\" alt=\"Open In Colab\"/></a>"
      ]
    },
    {
      "cell_type": "markdown",
      "source": [
        "# Parsing JSON Data - An Example with OpenStreetMap (OSM)\n",
        "\n"
      ],
      "metadata": {
        "id": "4vY1uiU41I9O"
      }
    },
    {
      "cell_type": "markdown",
      "source": [
        "In this notebook, we will create a dataset on Cafés in Toronto from OSM\n"
      ],
      "metadata": {
        "id": "LMGdCc4U4cnZ"
      }
    },
    {
      "cell_type": "markdown",
      "source": [
        "## Use OpenStreetMap APIs to Create a Dataset\n",
        "\n",
        "An application programming interface (API) is a set of rules and protocols that allows different software programs to exchange data with each other.\n",
        "\n",
        "* e.g., **Our Program** $\\Longleftrightarrow$ **OSM**"
      ],
      "metadata": {
        "id": "Y0jKHdtz6JH-"
      }
    },
    {
      "cell_type": "markdown",
      "source": [
        "The following OSM API will be used:\n",
        "\n",
        "- **Overpass API**  \n",
        "  - Retrieves detailed information about the search results within the specified area (based on the type and ID)  "
      ],
      "metadata": {
        "id": "aXV9XdWAJl3O"
      }
    },
    {
      "cell_type": "markdown",
      "source": [
        "Overpass is an API designed to query OpenStreetMap data.\n",
        "\n",
        "We will Overpass QL for the queries.\n",
        "\n",
        "Main idea:\n",
        "* Restrict the search to an area\n",
        "* Ask for OSM elements within that area\n",
        "  * e.g., businesses, parks, roads, schools\n",
        "\n"
      ],
      "metadata": {
        "id": "ClQpq3is6aSM"
      }
    },
    {
      "cell_type": "markdown",
      "source": [
        "Let us define the query for searching all cafés in Toronto."
      ],
      "metadata": {
        "id": "vHPaGNBV9_xt"
      }
    },
    {
      "cell_type": "code",
      "source": [
        "#Node is the point on map\n",
        "#Way is the connection\n",
        "#Relation is the relationship between the 2 factors - looking for amenity = cafe\n",
        "\n",
        "query = \"\"\"\n",
        "[out:json][timeout:25];\n",
        "area(id:3600324211)->.a;\n",
        " (\n",
        "    node[\"amenity\"=\"cafe\"](area.a);\n",
        "    way[\"amenity\"=\"cafe\"](area.a);\n",
        "    relation[\"amenity\"=\"cafe\"](area.a);\n",
        "  );\n",
        "out center tags;\n",
        "\"\"\"\n",
        "\n",
        "print(query)"
      ],
      "metadata": {
        "id": "OWsQcHEj8K_z",
        "outputId": "b5b7f6d3-2f8a-41bf-d4a5-4e6b43057a51",
        "colab": {
          "base_uri": "https://localhost:8080/"
        }
      },
      "execution_count": 19,
      "outputs": [
        {
          "output_type": "stream",
          "name": "stdout",
          "text": [
            "\n",
            "[out:json][timeout:25];\n",
            "area(id:3600324211)->.a;\n",
            " (\n",
            "    node[\"amenity\"=\"cafe\"](area.a);\n",
            "    way[\"amenity\"=\"cafe\"](area.a);\n",
            "    relation[\"amenity\"=\"cafe\"](area.a);\n",
            "  );\n",
            "out center tags;\n",
            "\n"
          ]
        }
      ]
    },
    {
      "cell_type": "markdown",
      "source": [
        "In the above query, we specified that:\n",
        "* The output data format is json\n",
        "* Search is within city of Toronto, which has an area id of 3600324211"
      ],
      "metadata": {
        "id": "DwwONCziECa8"
      }
    },
    {
      "cell_type": "markdown",
      "source": [
        "* The searched tag is **amenity**, which is for places like cafe, school, parking, toilets\n",
        "  * use the tag **leisure** for parks, green spaces, playgrounds, sports fields ...\n",
        "  * use the tag **landuse** for wooded areas (e.g., forests)"
      ],
      "metadata": {
        "id": "8n-N3hGQNof-"
      }
    },
    {
      "cell_type": "markdown",
      "source": [
        "**Questions**\n",
        "\n",
        "* How can we find the area id of a place to use in OVERPASS?\n",
        "\n",
        "* How can we find the right tag to use for a type pf places (e.g., \"dance studio\")?"
      ],
      "metadata": {
        "id": "BlobpChMOfzj"
      }
    },
    {
      "cell_type": "markdown",
      "source": [
        "To perform the query, we will use the `requests` library, which request/send data to the server.\n",
        "\n",
        "* Use `requests.get` to request data\n",
        "* Use `requests.post` to send data\n",
        "\n",
        "Note that this applies to APIs (as web services), web scraping, and even web browsing"
      ],
      "metadata": {
        "id": "CdfQwEbkHo12"
      }
    },
    {
      "cell_type": "markdown",
      "source": [
        "We will use `requests.post` to send the query to the server, which needs:\n",
        "\n",
        "* The server URL\n",
        "* The data to be sent; the query in this case\n",
        "* Time out period (in seconds)"
      ],
      "metadata": {
        "id": "CEBJz_LwJbRk"
      }
    },
    {
      "cell_type": "code",
      "source": [
        "# Import the library\n",
        "\n",
        "import requests\n",
        "\n",
        "# The URL\n",
        "\n",
        "OVERPASS = \"https://overpass-api.de/api/interpreter\"\n",
        "\n",
        "# Sending the data, and assign the response to a variable r , request server, and ask the server to return the data query with time out limit =30s\n",
        "\n",
        "r = requests.post(OVERPASS, data={'data': query}, timeout=30)"
      ],
      "metadata": {
        "id": "llEdCN5Xo_WS"
      },
      "execution_count": 20,
      "outputs": []
    },
    {
      "cell_type": "markdown",
      "source": [
        "An http request may go through or fail. The result is encoded in `r.status_code`, where `r` is the result from the request.\n",
        "\n",
        "\n",
        "* 200 → OK (success)\n",
        "\n",
        "* 404 → Not Found\n",
        "\n",
        "* 403 → Forbidden (e.g., bad headers or blocked)\n",
        "\n",
        "* 500 → Internal server error"
      ],
      "metadata": {
        "id": "vxAAsBykMOzO"
      }
    },
    {
      "cell_type": "code",
      "source": [
        "r\n",
        "#200 is success"
      ],
      "metadata": {
        "id": "OlIQDiDRpiSw",
        "colab": {
          "base_uri": "https://localhost:8080/"
        },
        "outputId": "c2440681-7a36-442a-9cc6-fee55397b431"
      },
      "execution_count": 21,
      "outputs": [
        {
          "output_type": "execute_result",
          "data": {
            "text/plain": [
              "<Response [200]>"
            ]
          },
          "metadata": {},
          "execution_count": 21
        }
      ]
    },
    {
      "cell_type": "markdown",
      "source": [
        "What's contained in the result `r`?\n",
        "* `.headers` - who sent the response?\n",
        "* `.text` -  the content of the response\n",
        "* `.json()` return the json-format data, if one requested json"
      ],
      "metadata": {
        "id": "BUwjVgZXNJH6"
      }
    },
    {
      "cell_type": "code",
      "source": [
        "if r.status_code == 200:\n",
        "    data = r.json()\n",
        "    # You can process the data here\n",
        "    print(\"Data received successfully.\")\n",
        "else:\n",
        "    print(f\"Error: Request failed with status code {r.status_code}\")\n",
        "    print(r.text) # Print the response text to see what was returned"
      ],
      "metadata": {
        "id": "8twhzBPJptd9",
        "collapsed": true,
        "colab": {
          "base_uri": "https://localhost:8080/"
        },
        "outputId": "fc32f040-4d9b-4ae2-e8b4-9ea55ef6b9a0"
      },
      "execution_count": 22,
      "outputs": [
        {
          "output_type": "stream",
          "name": "stdout",
          "text": [
            "Data received successfully.\n"
          ]
        }
      ]
    },
    {
      "cell_type": "markdown",
      "source": [
        "\n",
        "As we can see, the \"elements\" field contains all elements that matches the search."
      ],
      "metadata": {
        "id": "lbbc2nPmNod8"
      }
    },
    {
      "cell_type": "code",
      "source": [
        "# We can extract this list of elements by `data['elements']` or `data.get('elements')`.\n",
        "\n",
        "places = data.get('elements') #will not return error, just returning missing value\n",
        "#print(data.get('location')) #eg: this will return None\n",
        "\n",
        "#data['elements'] - returns the value with the key called elements, if there's no key in that name, returnning the error\n",
        "\n",
        "\n",
        "#Assign the list of elements to the variable named \"places\"\n",
        "\n"
      ],
      "metadata": {
        "id": "C6kiGjqSRPTx"
      },
      "execution_count": 23,
      "outputs": []
    },
    {
      "cell_type": "code",
      "source": [
        "places[-1]"
      ],
      "metadata": {
        "collapsed": true,
        "id": "pD_aRvH1RTmE",
        "colab": {
          "base_uri": "https://localhost:8080/"
        },
        "outputId": "de863aa2-4aa4-4d2d-daab-39e6ef8fb372"
      },
      "execution_count": 24,
      "outputs": [
        {
          "output_type": "execute_result",
          "data": {
            "text/plain": [
              "{'type': 'way',\n",
              " 'id': 1229832500,\n",
              " 'center': {'lat': 43.7773776, 'lon': -79.3445933},\n",
              " 'tags': {'addr:city': 'North York',\n",
              "  'addr:housenumber': '1800',\n",
              "  'addr:postcode': 'M2J 5A7',\n",
              "  'addr:province': 'ON',\n",
              "  'addr:street': 'Sheppard Avenue East',\n",
              "  'addr:unit': '2021',\n",
              "  'amenity': 'cafe',\n",
              "  'brand': 'machi machi',\n",
              "  'brand:en': 'machi machi',\n",
              "  'brand:wikidata': 'Q114828290',\n",
              "  'brand:zh': '麥吉',\n",
              "  'cuisine': 'bubble_tea',\n",
              "  'indoor': 'room',\n",
              "  'level': '1',\n",
              "  'name': 'Machi machi',\n",
              "  'opening_hours': 'Mo-Sa 09:30-21:30; Su 10:00-20:00',\n",
              "  'ref': '2021',\n",
              "  'shop': 'tea',\n",
              "  'takeaway': 'yes'}}"
            ]
          },
          "metadata": {},
          "execution_count": 24
        }
      ]
    },
    {
      "cell_type": "markdown",
      "source": [
        "Let's sample the first and last places in the list."
      ],
      "metadata": {
        "id": "p8QkWOeQRkq3"
      }
    },
    {
      "cell_type": "code",
      "source": [],
      "metadata": {
        "id": "gu5daCPZyd0U"
      },
      "execution_count": 24,
      "outputs": []
    },
    {
      "cell_type": "code",
      "source": [],
      "metadata": {
        "id": "sR0U0wcDN-K6"
      },
      "execution_count": 24,
      "outputs": []
    },
    {
      "cell_type": "markdown",
      "source": [
        "Side by side comparison of the two sample elements\n",
        "\n",
        "\n",
        "<img src=\"https://github.com/zhouy185/BUS_O712/blob/main/images/place0.png?raw=true\"\n",
        "width=\"300\" border=\"1\">\n",
        "<img src=\"https://github.com/zhouy185/BUS_O712/blob/main/images/place-1.png?raw=true\"\n",
        "width=\"400\" border=\"1\">\n",
        "\n",
        "\n"
      ],
      "metadata": {
        "id": "1qyc121LWutH"
      }
    },
    {
      "cell_type": "markdown",
      "source": [
        "We note that there are three element types:\n",
        "1. **Node**: A single point (latitude/longitude)\n",
        "    * Example: A tree 🌳 at a park, a business marked as a single point.\n",
        "\n",
        "2. **Way**: An ordered list of nodes (a line or polygon)\n",
        "    * Example: A road, the outline of a building\n",
        "\n",
        "3. **Relation**: A group of nodes/ways/other relations with extra rules\n",
        "    * Example: A bus route (collection of roads + stops in order), a city boundary (multiple polygon pieces stitched together).\n",
        "\n",
        "\n",
        "A café can be a \"node\" or a \"way\"!"
      ],
      "metadata": {
        "id": "VE4HDv_D7gW7"
      }
    },
    {
      "cell_type": "markdown",
      "source": [
        "We may construct a DataFrame from `places`.\n",
        "\n",
        "But,\n",
        "* The elements of the type \"node\" directly have 'lat' and 'lon' as keys\n",
        "* The elements of the type \"node\" do not; instead:\n",
        "  * they have a key named 'center', whose value contains 'lat' and 'lon'"
      ],
      "metadata": {
        "id": "zwiimx0cXXMw"
      }
    },
    {
      "cell_type": "markdown",
      "source": [
        "We can use `pd.DataFrame(list_of_dict)` to directly convert a list of `dict`s to a DataFrame"
      ],
      "metadata": {
        "id": "j90XCqTvVYME"
      }
    },
    {
      "cell_type": "code",
      "source": [],
      "metadata": {
        "id": "T6QTfmGYXp9B"
      },
      "execution_count": 24,
      "outputs": []
    },
    {
      "cell_type": "markdown",
      "source": [
        "**Observation**\n",
        "* For a \"node\" type, **lat** and **lon** are directly available fields in the dict\n",
        "\n",
        "* For a \"way\" type, **lat** and **lon** are **not** directly available but are nested under the **center** field -- they are the coordinates of the centroid of the polygon shape!"
      ],
      "metadata": {
        "id": "sjnF6UbP1Crx"
      }
    },
    {
      "cell_type": "markdown",
      "source": [
        "Let's address this issue by first creating an empty DataFrame with the columns of interest\n",
        "* we will include `['type','id','name','lat','lon','cuisine','brand']` as the columns"
      ],
      "metadata": {
        "id": "VXuVOjZlYdO2"
      }
    },
    {
      "cell_type": "markdown",
      "source": [
        "An easy way is to let Gemini perform the task.\n",
        "\n",
        "> Prompt: Create a DataFrame df_cafes based on the variable places. The columns are 'type','id','name','lat','lon','cuisine','brand'."
      ],
      "metadata": {
        "id": "7SjXx8nZaJ8G"
      }
    },
    {
      "cell_type": "code",
      "source": [
        "import pandas as pd\n",
        "\n",
        "cafe_list=[]\n",
        "for place in places:\n",
        "  place_type = place['type']\n",
        "  place_id = place['id']\n",
        "\n",
        "  tags= place.get('tags')\n",
        "  name= tags.get('name')\n",
        "  cuisine= tags.get('cuisine')\n",
        "  brand= tags.get('brand')\n",
        "\n",
        "  if place_type == 'node':\n",
        "    lat = place['lat']\n",
        "    lon = place['lon']\n",
        "  elif place_type == 'way':\n",
        "    center= place.get('center')\n",
        "    lat= center['lat']\n",
        "    lon= center['lon']\n",
        "  else:\n",
        "      # Handle other types if necessary, though based on the query,\n",
        "      # we expect only 'node' and 'way'\n",
        "      lat = None\n",
        "      lon = None\n",
        "\n",
        "\n",
        "  cafe_list.append({\n",
        "      'type':place_type,\n",
        "      'id':place_id,\n",
        "      'name':name,\n",
        "      'lat':lat,\n",
        "      'lon':lon,\n",
        "      'cuisine':cuisine,\n",
        "      'brand':brand\n",
        "  })\n",
        "\n",
        "df_cafes = pd.DataFrame(cafe_list)"
      ],
      "metadata": {
        "id": "GCiYmo9ha6DT"
      },
      "execution_count": 25,
      "outputs": []
    },
    {
      "cell_type": "code",
      "source": [
        "df_cafes.head()\n",
        "df_cafes.to_csv('cafes.csv', index=False)"
      ],
      "metadata": {
        "id": "yE0q7v2hbxai"
      },
      "execution_count": 26,
      "outputs": []
    },
    {
      "cell_type": "code",
      "source": [],
      "metadata": {
        "id": "vxH0g9FKhx3W"
      },
      "execution_count": 26,
      "outputs": []
    }
  ]
}